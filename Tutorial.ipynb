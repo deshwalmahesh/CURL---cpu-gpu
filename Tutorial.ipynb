{
  "nbformat": 4,
  "nbformat_minor": 0,
  "metadata": {
    "colab": {
      "name": "Image enhancement: CURL",
      "provenance": [],
      "collapsed_sections": []
    },
    "kernelspec": {
      "name": "python3",
      "display_name": "Python 3"
    },
    "language_info": {
      "name": "python"
    },
    "accelerator": "GPU"
  },
  "cells": [
    {
      "cell_type": "code",
      "execution_count": null,
      "metadata": {
        "colab": {
          "base_uri": "https://localhost:8080/"
        },
        "id": "AMyAMcxkMZYg",
        "outputId": "bb17e705-b679-4c28-8c30-bdf0e93f9e04"
      },
      "outputs": [
        {
          "output_type": "stream",
          "name": "stdout",
          "text": [
            "Cloning into 'CURL'...\n",
            "remote: Enumerating objects: 517, done.\u001b[K\n",
            "remote: Counting objects: 100% (81/81), done.\u001b[K\n",
            "remote: Compressing objects: 100% (79/79), done.\u001b[K\n",
            "remote: Total 517 (delta 44), reused 6 (delta 2), pack-reused 436\u001b[K\n",
            "Receiving objects: 100% (517/517), 92.68 MiB | 33.49 MiB/s, done.\n",
            "Resolving deltas: 100% (281/281), done.\n",
            "/content/CURL\n"
          ]
        }
      ],
      "source": [
        "! git clone https://github.com/sjmoran/CURL\n",
        "\n",
        "% cd ./CURL/"
      ]
    },
    {
      "cell_type": "markdown",
      "source": [
        "# Codes"
      ],
      "metadata": {
        "id": "8e0TLHIpakSS"
      }
    },
    {
      "cell_type": "code",
      "source": [
        "%cd ./CURL/\n",
        "\n",
        "import numpy as np\n",
        "from PIL import Image\n",
        "import sys\n",
        "from util import ImageProcessing\n",
        "\n",
        "import torch\n",
        "import torchvision.transforms.functional as TF\n",
        "import util\n",
        "\n",
        "import requests\n",
        "from io import BytesIO\n",
        "import model\n",
        "\n",
        "np.set_printoptions(threshold=sys.maxsize)\n",
        "\n",
        "import matplotlib.pyplot as plt\n",
        "%matplotlib inline\n",
        "\n",
        "\n",
        "checkpoint_filepath = \"./pretrained_models/adobe_dpe/curl_validpsnr_23.073045286204017_validloss_0.0701291635632515_testpsnr_23.584083321292365_testloss_0.061363041400909424_epoch_510_model.pt\"\n",
        "inference_img_dirpath = \"./adobe5k_dpe\"\n",
        "log_dirpath = './'\n",
        "\n",
        "DEVICE = 'cuda' if torch.cuda.is_available() else 'cpu'\n",
        "\n",
        "net = model.CURLNet()\n",
        "checkpoint = torch.load(checkpoint_filepath, map_location=DEVICE)\n",
        "net.load_state_dict(checkpoint['model_state_dict'])\n",
        "\n",
        "net.eval()\n",
        "if DEVICE == 'cuda':\n",
        "  net.cuda()\n",
        "\n",
        "\n",
        "def load_image(path):\n",
        "    '''\n",
        "    '''\n",
        "    if (\"https\" in path) or (\"http\" in path):\n",
        "      image = Image.open(BytesIO(requests.get(path).content))\n",
        "\n",
        "    else:\n",
        "      image = Image.open(path)\n",
        "\n",
        "\n",
        "    if image.mode != 'RGB':\n",
        "      image = image.convert('RGB')\n",
        "               \n",
        "    return TF.to_tensor(image).to(DEVICE)\n",
        "\n",
        "\n",
        "def evaluate(img_path, convert_uint = False):\n",
        "    \"\"\"\n",
        "    \"\"\"\n",
        "    img = load_image(img_path)\n",
        "\n",
        "    with torch.no_grad():\n",
        "\n",
        "        img = img.unsqueeze(0)\n",
        "        img = torch.clamp(img, 0, 1)\n",
        "\n",
        "        net_output_img_example , _ = net(img)\n",
        "\n",
        "        net_output_img_example_numpy = net_output_img_example.squeeze(0).data.cpu().numpy()\n",
        "        net_output_img_example_numpy = ImageProcessing.swapimdims_3HW_HW3(net_output_img_example_numpy)\n",
        "        return (net_output_img_example_numpy* 255).astype(np.uint8) if convert_uint else net_output_img_example_numpy\n",
        "\n",
        "        "
      ],
      "metadata": {
        "id": "yw5exVUa-ZyH",
        "colab": {
          "base_uri": "https://localhost:8080/"
        },
        "outputId": "f4e013be-ecff-410c-eb7f-69840e6e81c2"
      },
      "execution_count": null,
      "outputs": [
        {
          "output_type": "stream",
          "name": "stdout",
          "text": [
            "[Errno 2] No such file or directory: './CURL/'\n",
            "/content/CURL\n"
          ]
        }
      ]
    },
    {
      "cell_type": "code",
      "source": [
        "path = \"./adobe5k_dpe/curl_example_test_input/a2803-060810_075208_GM6A0020_input.png\"\n",
        "result = evaluate(path, convert_uint = False)\n",
        "\n",
        "f, ax = plt.subplots(1,2, figsize = (20,10))\n",
        "ax[0].imshow(np.array(Image.open(path)))\n",
        "ax[1].imshow(result)"
      ],
      "metadata": {
        "id": "SNyVw9hteb6l"
      },
      "execution_count": null,
      "outputs": []
    },
    {
      "cell_type": "code",
      "source": [
        "url = \"https://2.img-dpreview.com/files/p/TS560x560~forums/62902641/8ec07adb32b04f5dababb8f24bf10fb3\"\n",
        "result = evaluate(url, convert_uint = False)\n",
        "\n",
        "f, ax = plt.subplots(1,2, figsize = (20,10))\n",
        "ax[0].imshow(np.array(Image.open(BytesIO(requests.get(url).content))))\n",
        "ax[1].imshow(result)"
      ],
      "metadata": {
        "id": "c9SXrl1pl9CO"
      },
      "execution_count": null,
      "outputs": []
    }
  ]
}