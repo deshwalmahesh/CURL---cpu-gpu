{
 "cells": [
  {
   "cell_type": "code",
   "execution_count": 1,
   "metadata": {
    "colab": {
     "base_uri": "https://localhost:8080/"
    },
    "id": "AMyAMcxkMZYg",
    "outputId": "bb17e705-b679-4c28-8c30-bdf0e93f9e04"
   },
   "outputs": [],
   "source": [
    "# ! git clone https://github.com/sjmoran/CURL\n",
    "\n",
    "# !cd ./CURL/"
   ]
  },
  {
   "cell_type": "markdown",
   "metadata": {
    "id": "8e0TLHIpakSS"
   },
   "source": [
    "# Codes"
   ]
  },
  {
   "cell_type": "code",
   "execution_count": 2,
   "metadata": {
    "colab": {
     "base_uri": "https://localhost:8080/"
    },
    "id": "yw5exVUa-ZyH",
    "outputId": "f4e013be-ecff-410c-eb7f-69840e6e81c2"
   },
   "outputs": [
    {
     "name": "stderr",
     "output_type": "stream",
     "text": [
      "/home/mahesh/anaconda3/envs/py37/lib/python3.7/site-packages/tqdm/auto.py:22: TqdmWarning: IProgress not found. Please update jupyter and ipywidgets. See https://ipywidgets.readthedocs.io/en/stable/user_install.html\n",
      "  from .autonotebook import tqdm as notebook_tqdm\n"
     ]
    }
   ],
   "source": [
    "# %cd ./CURL/\n",
    "\n",
    "import numpy as np\n",
    "from PIL import Image\n",
    "import sys\n",
    "from util import ImageProcessing\n",
    "\n",
    "import torch\n",
    "import torchvision.transforms.functional as TF\n",
    "import util\n",
    "\n",
    "import requests\n",
    "from io import BytesIO\n",
    "import model\n",
    "\n",
    "np.set_printoptions(threshold=sys.maxsize)\n",
    "\n",
    "import matplotlib.pyplot as plt\n",
    "%matplotlib inline\n",
    "\n",
    "\n",
    "checkpoint_filepath = \"./pretrained_models/adobe_dpe/curl_validpsnr_23.073045286204017_validloss_0.0701291635632515_testpsnr_23.584083321292365_testloss_0.061363041400909424_epoch_510_model.pt\"\n",
    "inference_img_dirpath = \"./adobe5k_dpe\"\n",
    "log_dirpath = './'\n",
    "\n",
    "DEVICE = 'cuda' if torch.cuda.is_available() else 'cpu'\n",
    "\n",
    "net = model.CURLNet()\n",
    "checkpoint = torch.load(checkpoint_filepath, map_location=DEVICE)\n",
    "net.load_state_dict(checkpoint['model_state_dict'])\n",
    "\n",
    "net.eval()\n",
    "if DEVICE == 'cuda':\n",
    "  net.cuda()\n",
    "\n",
    "\n",
    "def load_image(path):\n",
    "    '''\n",
    "    '''\n",
    "    if (\"https\" in path) or (\"http\" in path):\n",
    "      image = Image.open(BytesIO(requests.get(path).content))\n",
    "\n",
    "    else:\n",
    "      image = Image.open(path)\n",
    "\n",
    "\n",
    "    if image.mode != 'RGB':\n",
    "      image = image.convert('RGB')\n",
    "               \n",
    "    return TF.to_tensor(image).to(DEVICE)\n",
    "\n",
    "\n",
    "def evaluate(img_path, convert_uint = False):\n",
    "    \"\"\"\n",
    "    \"\"\"\n",
    "    img = load_image(img_path)\n",
    "\n",
    "    with torch.no_grad():\n",
    "\n",
    "        img = img.unsqueeze(0)\n",
    "        img = torch.clamp(img, 0, 1)\n",
    "\n",
    "        net_output_img_example , _ = net(img)\n",
    "\n",
    "        net_output_img_example_numpy = net_output_img_example.squeeze(0).data.cpu().numpy()\n",
    "        net_output_img_example_numpy = ImageProcessing.swapimdims_3HW_HW3(net_output_img_example_numpy)\n",
    "        return (net_output_img_example_numpy* 255).astype(np.uint8) if convert_uint else net_output_img_example_numpy\n",
    "\n",
    "        "
   ]
  },
  {
   "cell_type": "code",
   "execution_count": null,
   "metadata": {},
   "outputs": [],
   "source": []
  },
  {
   "cell_type": "code",
   "execution_count": null,
   "metadata": {
    "id": "SNyVw9hteb6l"
   },
   "outputs": [],
   "source": [
    "path = \"./adobe5k_dpe/curl_example_test_input/a2803-060810_075208_GM6A0020_input.png\"\n",
    "result = evaluate(path, convert_uint = False)\n",
    "\n",
    "f, ax = plt.subplots(1,2, figsize = (20,10))\n",
    "ax[0].imshow(np.array(Image.open(path)))\n",
    "ax[1].imshow(result)"
   ]
  },
  {
   "cell_type": "code",
   "execution_count": null,
   "metadata": {
    "id": "c9SXrl1pl9CO"
   },
   "outputs": [],
   "source": [
    "url = \"https://2.img-dpreview.com/files/p/TS560x560~forums/62902641/8ec07adb32b04f5dababb8f24bf10fb3\"\n",
    "result = evaluate(url, convert_uint = False)\n",
    "\n",
    "f, ax = plt.subplots(1,2, figsize = (20,10))\n",
    "ax[0].imshow(np.array(Image.open(BytesIO(requests.get(url).content))))\n",
    "ax[1].imshow(result)"
   ]
  }
 ],
 "metadata": {
  "accelerator": "GPU",
  "colab": {
   "collapsed_sections": [],
   "name": "Image enhancement: CURL",
   "provenance": []
  },
  "kernelspec": {
   "display_name": "Python 3 (ipykernel)",
   "language": "python",
   "name": "python3"
  },
  "language_info": {
   "codemirror_mode": {
    "name": "ipython",
    "version": 3
   },
   "file_extension": ".py",
   "mimetype": "text/x-python",
   "name": "python",
   "nbconvert_exporter": "python",
   "pygments_lexer": "ipython3",
   "version": "3.7.11"
  }
 },
 "nbformat": 4,
 "nbformat_minor": 4
}
